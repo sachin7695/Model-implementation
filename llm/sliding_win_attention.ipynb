{
 "cells": [
  {
   "cell_type": "code",
   "execution_count": 1,
   "id": "8687785a",
   "metadata": {},
   "outputs": [],
   "source": [
    "import torch \n",
    "import torch.nn as nn \n"
   ]
  },
  {
   "cell_type": "code",
   "execution_count": 2,
   "id": "ba4493d7",
   "metadata": {},
   "outputs": [
    {
     "data": {
      "text/plain": [
       "[{'the'}, {'cat'}, {'is'}, {'on'}, {'a'}, {'chair'}]"
      ]
     },
     "execution_count": 2,
     "metadata": {},
     "output_type": "execute_result"
    }
   ],
   "source": [
    "print_order = ['the', 'cat', 'is', 'on', 'a', 'chair'] \n",
    "sequence = [{print_order[i]} for i in range(len(print_order))]\n",
    "sequence # list[set[str]]"
   ]
  },
  {
   "cell_type": "code",
   "execution_count": 3,
   "id": "684fa69f",
   "metadata": {},
   "outputs": [],
   "source": [
    "sliding_window_size = 3 \n",
    "\n",
    "def sliding_win_attention(seq:list[set[str]], w:int=3):\n",
    "    seq_len = len(seq)\n",
    "    attn_score : list[list[set]] = [[None for _ in range(seq_len)] for _ in range(seq_len)] #TxT\n",
    "\n",
    "\n",
    "    for i, q_tokens_set in enumerate(seq):\n",
    "\n",
    "        for j, k_tokens_set in enumerate(seq):\n",
    "\n",
    "            if j>i:\n",
    "                continue #upper triangle \n",
    "            if i-j >= w:\n",
    "                continue \n",
    "\n",
    "            attention = set()\n",
    "            attention.update(q_tokens_set)\n",
    "            attention.update(k_tokens_set)\n",
    "\n",
    "            attn_score[i][j] = attention # list of set \n",
    "\n",
    "    return attn_score\n",
    "\n",
    "\n",
    "def multiple_by_v(attention_scores: list[list[set]], v_sequence: list[set[str]]) -> list[set[str]]:\n",
    "    seq_len = len(v_sequence)\n",
    "    result = [set() for _ in range(seq_len)]\n",
    "    for i in range(seq_len):\n",
    "        for j in range(seq_len):\n",
    "            attention = attention_scores[i][j]\n",
    "            v = v_sequence[j]\n",
    "            r = result[i]\n",
    "            # Add all the tokens in the attention (if not None) to r\n",
    "            if attention is not None:\n",
    "                # Add all the tokens in v to r\n",
    "                r.update(v)\n",
    "                r.update(attention)\n",
    "    return result \n",
    "    \n"
   ]
  },
  {
   "cell_type": "code",
   "execution_count": 4,
   "id": "51bd8190",
   "metadata": {},
   "outputs": [
    {
     "name": "stdout",
     "output_type": "stream",
     "text": [
      "0: ['the']\n",
      "1: ['cat']\n",
      "2: ['is']\n",
      "3: ['on']\n",
      "4: ['a']\n",
      "5: ['chair']\n"
     ]
    }
   ],
   "source": [
    "def print_sequence(seq: list[set[str]]):\n",
    "    for i, tokens_set in enumerate(seq):\n",
    "        print(f'{i}: {sorted(tokens_set, key=lambda x: print_order.index(x))}')\n",
    "\n",
    "print_sequence(sequence)"
   ]
  },
  {
   "cell_type": "code",
   "execution_count": 5,
   "id": "6d06750d",
   "metadata": {},
   "outputs": [
    {
     "data": {
      "text/plain": [
       "[[{'the'}, None, None, None, None, None],\n",
       " [{'cat', 'the'}, {'cat'}, None, None, None, None],\n",
       " [{'is', 'the'}, {'cat', 'is'}, {'is'}, None, None, None],\n",
       " [None, {'cat', 'on'}, {'is', 'on'}, {'on'}, None, None],\n",
       " [None, None, {'a', 'is'}, {'a', 'on'}, {'a'}, None],\n",
       " [None, None, None, {'chair', 'on'}, {'a', 'chair'}, {'chair'}]]"
      ]
     },
     "execution_count": 5,
     "metadata": {},
     "output_type": "execute_result"
    }
   ],
   "source": [
    "attn = sliding_win_attention(sequence, 3)\n",
    "attn\n",
    "#print(multiple_by_v(attn, sequence))\n"
   ]
  },
  {
   "cell_type": "code",
   "execution_count": 7,
   "id": "a2012533",
   "metadata": {},
   "outputs": [
    {
     "data": {
      "text/plain": [
       "[{'the'},\n",
       " {'cat', 'the'},\n",
       " {'cat', 'is', 'the'},\n",
       " {'cat', 'is', 'on'},\n",
       " {'a', 'is', 'on'},\n",
       " {'a', 'chair', 'on'}]"
      ]
     },
     "execution_count": 7,
     "metadata": {},
     "output_type": "execute_result"
    }
   ],
   "source": [
    "multiple_by_v(attn, sequence)\n"
   ]
  },
  {
   "cell_type": "code",
   "execution_count": 10,
   "id": "d5d6e2ba",
   "metadata": {},
   "outputs": [],
   "source": [
    "def print_attention(attn_score:list[list[set[str]]]):\n",
    "    for i, row in enumerate(attn_score):\n",
    "        for j, attn in enumerate(row):\n",
    "            if attn is None:\n",
    "                print(\"None\", end='\\t')\n",
    "            else:\n",
    "                print(f'{sorted(attn, key=lambda x: print_order.index(x))}', end='\\t')\n",
    "        print()\n",
    "\n",
    "def print_layer(input:list[set[str]], layer_num:int) -> list[set[str]]:\n",
    "    print(f'Layer {layer_num} input: ')\n",
    "    print_sequence(input)\n",
    "    attn_scores = sliding_win_attention(input)\n",
    "    print()\n",
    "    print(f'Layer {layer_num} atention scores: ')\n",
    "    print_attention(attn_scores)\n",
    "    output = multiple_by_v(attn_scores, sequence)\n",
    "    print()\n",
    "    print(f'Layer {layer_num} output: ')\n",
    "    print_sequence(output)\n",
    "    return output \n"
   ]
  },
  {
   "cell_type": "code",
   "execution_count": 9,
   "id": "de8100f4",
   "metadata": {},
   "outputs": [
    {
     "name": "stdout",
     "output_type": "stream",
     "text": [
      "['the']\tNone\tNone\tNone\tNone\tNone\t\n",
      "['the', 'cat']\t['cat']\tNone\tNone\tNone\tNone\t\n",
      "['the', 'is']\t['cat', 'is']\t['is']\tNone\tNone\tNone\t\n",
      "None\t['cat', 'on']\t['is', 'on']\t['on']\tNone\tNone\t\n",
      "None\tNone\t['is', 'a']\t['on', 'a']\t['a']\tNone\t\n",
      "None\tNone\tNone\t['on', 'chair']\t['a', 'chair']\t['chair']\t\n"
     ]
    }
   ],
   "source": [
    "print_attention(attn)"
   ]
  },
  {
   "cell_type": "code",
   "execution_count": 11,
   "id": "ad5d073f",
   "metadata": {},
   "outputs": [
    {
     "name": "stdout",
     "output_type": "stream",
     "text": [
      "Layer 1 input: \n",
      "0: ['the']\n",
      "1: ['cat']\n",
      "2: ['is']\n",
      "3: ['on']\n",
      "4: ['a']\n",
      "5: ['chair']\n",
      "\n",
      "Layer 1 atention scores: \n",
      "['the']\tNone\tNone\tNone\tNone\tNone\t\n",
      "['the', 'cat']\t['cat']\tNone\tNone\tNone\tNone\t\n",
      "['the', 'is']\t['cat', 'is']\t['is']\tNone\tNone\tNone\t\n",
      "None\t['cat', 'on']\t['is', 'on']\t['on']\tNone\tNone\t\n",
      "None\tNone\t['is', 'a']\t['on', 'a']\t['a']\tNone\t\n",
      "None\tNone\tNone\t['on', 'chair']\t['a', 'chair']\t['chair']\t\n",
      "\n",
      "Layer 1 output: \n",
      "0: ['the']\n",
      "1: ['the', 'cat']\n",
      "2: ['the', 'cat', 'is']\n",
      "3: ['cat', 'is', 'on']\n",
      "4: ['is', 'on', 'a']\n",
      "5: ['on', 'a', 'chair']\n"
     ]
    }
   ],
   "source": [
    "output_layer_1 = print_layer(sequence, 1)"
   ]
  },
  {
   "cell_type": "code",
   "execution_count": 12,
   "id": "3535d02c",
   "metadata": {},
   "outputs": [
    {
     "name": "stdout",
     "output_type": "stream",
     "text": [
      "Layer 2 input: \n",
      "0: ['the']\n",
      "1: ['the', 'cat']\n",
      "2: ['the', 'cat', 'is']\n",
      "3: ['cat', 'is', 'on']\n",
      "4: ['is', 'on', 'a']\n",
      "5: ['on', 'a', 'chair']\n",
      "\n",
      "Layer 2 atention scores: \n",
      "['the']\tNone\tNone\tNone\tNone\tNone\t\n",
      "['the', 'cat']\t['the', 'cat']\tNone\tNone\tNone\tNone\t\n",
      "['the', 'cat', 'is']\t['the', 'cat', 'is']\t['the', 'cat', 'is']\tNone\tNone\tNone\t\n",
      "None\t['the', 'cat', 'is', 'on']\t['the', 'cat', 'is', 'on']\t['cat', 'is', 'on']\tNone\tNone\t\n",
      "None\tNone\t['the', 'cat', 'is', 'on', 'a']\t['cat', 'is', 'on', 'a']\t['is', 'on', 'a']\tNone\t\n",
      "None\tNone\tNone\t['cat', 'is', 'on', 'a', 'chair']\t['is', 'on', 'a', 'chair']\t['on', 'a', 'chair']\t\n",
      "\n",
      "Layer 2 output: \n",
      "0: ['the']\n",
      "1: ['the', 'cat']\n",
      "2: ['the', 'cat', 'is']\n",
      "3: ['the', 'cat', 'is', 'on']\n",
      "4: ['the', 'cat', 'is', 'on', 'a']\n",
      "5: ['cat', 'is', 'on', 'a', 'chair']\n"
     ]
    }
   ],
   "source": [
    "output_layer_2 = print_layer(output_layer_1, 2)"
   ]
  },
  {
   "cell_type": "code",
   "execution_count": 13,
   "id": "345acf50",
   "metadata": {},
   "outputs": [
    {
     "name": "stdout",
     "output_type": "stream",
     "text": [
      "Layer 3 input: \n",
      "0: ['the']\n",
      "1: ['the', 'cat']\n",
      "2: ['the', 'cat', 'is']\n",
      "3: ['the', 'cat', 'is', 'on']\n",
      "4: ['the', 'cat', 'is', 'on', 'a']\n",
      "5: ['cat', 'is', 'on', 'a', 'chair']\n",
      "\n",
      "Layer 3 atention scores: \n",
      "['the']\tNone\tNone\tNone\tNone\tNone\t\n",
      "['the', 'cat']\t['the', 'cat']\tNone\tNone\tNone\tNone\t\n",
      "['the', 'cat', 'is']\t['the', 'cat', 'is']\t['the', 'cat', 'is']\tNone\tNone\tNone\t\n",
      "None\t['the', 'cat', 'is', 'on']\t['the', 'cat', 'is', 'on']\t['the', 'cat', 'is', 'on']\tNone\tNone\t\n",
      "None\tNone\t['the', 'cat', 'is', 'on', 'a']\t['the', 'cat', 'is', 'on', 'a']\t['the', 'cat', 'is', 'on', 'a']\tNone\t\n",
      "None\tNone\tNone\t['the', 'cat', 'is', 'on', 'a', 'chair']\t['the', 'cat', 'is', 'on', 'a', 'chair']\t['cat', 'is', 'on', 'a', 'chair']\t\n",
      "\n",
      "Layer 3 output: \n",
      "0: ['the']\n",
      "1: ['the', 'cat']\n",
      "2: ['the', 'cat', 'is']\n",
      "3: ['the', 'cat', 'is', 'on']\n",
      "4: ['the', 'cat', 'is', 'on', 'a']\n",
      "5: ['the', 'cat', 'is', 'on', 'a', 'chair']\n"
     ]
    }
   ],
   "source": [
    "output_layer_3 = print_layer(output_layer_2, 3)"
   ]
  },
  {
   "cell_type": "code",
   "execution_count": null,
   "id": "f47b9af2",
   "metadata": {},
   "outputs": [],
   "source": []
  }
 ],
 "metadata": {
  "kernelspec": {
   "display_name": "ai",
   "language": "python",
   "name": "python3"
  },
  "language_info": {
   "codemirror_mode": {
    "name": "ipython",
    "version": 3
   },
   "file_extension": ".py",
   "mimetype": "text/x-python",
   "name": "python",
   "nbconvert_exporter": "python",
   "pygments_lexer": "ipython3",
   "version": "3.11.11"
  }
 },
 "nbformat": 4,
 "nbformat_minor": 5
}
