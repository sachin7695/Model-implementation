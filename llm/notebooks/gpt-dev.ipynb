{
 "cells": [
  {
   "cell_type": "code",
   "execution_count": null,
   "id": "b6bb6c36",
   "metadata": {},
   "outputs": [],
   "source": [
    "!wget -q https://raw.githubusercontent.com/karpathy/char-rnn/master/data/tinyshakespeare/input.txt"
   ]
  },
  {
   "cell_type": "code",
   "execution_count": null,
   "id": "cf2f2980",
   "metadata": {},
   "outputs": [],
   "source": [
    "import torch"
   ]
  },
  {
   "cell_type": "code",
   "execution_count": null,
   "id": "dfa9b774",
   "metadata": {},
   "outputs": [],
   "source": [
    "with open('input.txt',\"r\", encoding = \"utf-8\") as f:\n",
    "    text = f.read()"
   ]
  },
  {
   "cell_type": "code",
   "execution_count": null,
   "id": "c7f97ee3",
   "metadata": {},
   "outputs": [],
   "source": [
    "print(\"length of dataset characters: \", len(text))"
   ]
  },
  {
   "cell_type": "code",
   "execution_count": null,
   "id": "733826a1",
   "metadata": {},
   "outputs": [],
   "source": [
    "chars = sorted(list(set(text)))\n",
    "vocab_size = len(chars)\n",
    "print(''.join(chars))\n",
    "print(vocab_size)"
   ]
  },
  {
   "cell_type": "code",
   "execution_count": null,
   "id": "c7c892cc",
   "metadata": {},
   "outputs": [],
   "source": [
    "stoi = {ch:i for i,ch in enumerate(chars)}\n",
    "itos = {i:ch for i, ch in enumerate(chars)}\n",
    "def encode(text):\n",
    "    encode_list = []\n",
    "    for ch in text:\n",
    "        encode_list.append(stoi[ch])\n",
    "    return encode_list\n",
    "\n",
    "def decode(encoding_list):\n",
    "    decoded_str = \"\"\n",
    "    for ls in encoding_list:\n",
    "        decoded_str+=itos[ls]\n",
    "    return decoded_str\n",
    "\n",
    "encoded = encode(\"hello how are you?\")\n",
    "print(torch.tensor(encoded))\n",
    "decoded = decode(encoded)\n",
    "print(decoded)\n",
    "print(torch.tensor(encoded).shape, torch.tensor(encoded).dtype)"
   ]
  },
  {
   "cell_type": "code",
   "execution_count": null,
   "id": "e4ddf4f8",
   "metadata": {},
   "outputs": [],
   "source": [
    "data = torch.tensor(encode(text), dtype = torch.long)\n",
    "print(data.shape, data.dtype)\n",
    "print(data[:100])"
   ]
  },
  {
   "cell_type": "code",
   "execution_count": null,
   "id": "6ad6ce4f",
   "metadata": {},
   "outputs": [],
   "source": [
    "#splitting data into train and validation\n",
    "n = int((0.9)*len(data))\n",
    "train_data = data[:n]\n",
    "val_data = data[n:]\n"
   ]
  },
  {
   "cell_type": "code",
   "execution_count": null,
   "id": "3c4e9a4e",
   "metadata": {},
   "outputs": [],
   "source": [
    "block_size = 8 \n",
    "train_sample = train_data[:block_size+1]"
   ]
  },
  {
   "cell_type": "code",
   "execution_count": null,
   "id": "a07600e9",
   "metadata": {},
   "outputs": [],
   "source": [
    "ans_list = train_sample.tolist()\n",
    "ans_str = decode(ans_list)\n",
    "print(ans_list)\n",
    "print(ans_str)"
   ]
  },
  {
   "cell_type": "code",
   "execution_count": null,
   "id": "0882e10b",
   "metadata": {},
   "outputs": [],
   "source": [
    "x = train_data[:block_size]  #[18, 47, 56, 57, 58, 1, 15, 47, 58]\n",
    "y = train_data[1:block_size+1]\n",
    "for t in range(block_size):\n",
    "    context = x[:t+1]\n",
    "    target = y[t]\n",
    "    print(f\"when input is {context} -> the target: {target}\")"
   ]
  },
  {
   "cell_type": "code",
   "execution_count": null,
   "id": "f2dc89a4",
   "metadata": {},
   "outputs": [],
   "source": [
    "torch.manual_seed(1337)\n",
    "batch_size = 4\n",
    "block_size = 8 \n",
    "\n",
    "def get_batch(split):\n",
    "    data = train_data if split==\"train\" else val_data\n",
    "    ix = torch.randint(len(data)-block_size, size = (batch_size,))  #idx = [10, 30, 45, 60] random indexes within the boundary \n",
    "    x = torch.stack([data[i:i+block_size] for i in ix ])\n",
    "    y = torch.stack([data[i+1:i+1+block_size] for i in ix])\n",
    "    return x, y \n",
    "xb, yb = get_batch('train')\n",
    "print('inputs:')\n",
    "print(xb.shape)\n",
    "print(xb)\n",
    "print('targets:')\n",
    "print(yb.shape)\n",
    "print(yb)\n",
    "\n",
    "print('----')"
   ]
  },
  {
   "cell_type": "code",
   "execution_count": null,
   "id": "a0655f02",
   "metadata": {},
   "outputs": [],
   "source": [
    "for b in range(batch_size):\n",
    "    for t in range(block_size):\n",
    "        context = xb[b, :t+1]\n",
    "        target = yb[b, t]\n",
    "        print(f\"when input is {context.tolist()} the target: {target}\")\n"
   ]
  },
  {
   "cell_type": "code",
   "execution_count": null,
   "id": "c3e7eab6",
   "metadata": {},
   "outputs": [],
   "source": [
    "print(xb)\n",
    "print(xb.shape)"
   ]
  },
  {
   "cell_type": "code",
   "execution_count": null,
   "id": "a22bcda1",
   "metadata": {},
   "outputs": [],
   "source": [
    "vocab_size"
   ]
  },
  {
   "cell_type": "code",
   "execution_count": null,
   "id": "fd688a08",
   "metadata": {},
   "outputs": [],
   "source": [
    "print(\"vocab_size:\", vocab_size)\n",
    "print(\"train max token:\", int(train_data.max()))\n",
    "print(\"val max token:\", int(val_data.max()))\n",
    "\n",
    "print(\"xb max:\", int(xb.max()))\n",
    "print(\"yb max:\", int(yb.max()))\n"
   ]
  },
  {
   "cell_type": "code",
   "execution_count": null,
   "id": "6abfe3d1",
   "metadata": {},
   "outputs": [],
   "source": [
    "import torch.nn as nn\n",
    "from torch.nn import functional as F\n",
    "# torch.manual_seed(1337)\n",
    "n_embed = 32\n",
    "class BigramLanguageModel(nn.Module):\n",
    "    def __init__(self, vocab_size, n_embed=32):\n",
    "        super(BigramLanguageModel, self).__init__()\n",
    "        self.token_embedding_table = nn.Embedding(vocab_size, n_embed) #\n",
    "        self.pos_embedding_table = nn.Embedding(block_size, n_embed)\n",
    "        self.lm_head = nn.Linear(n_embed, vocab_size)\n",
    "\n",
    "    def forward(self, idx, targets = None):\n",
    "        #idx (BS, T)\n",
    "        B, T = idx.shape\n",
    "        token = self.token_embedding_table(idx) #B, T, C\n",
    "        pos = self.pos_embedding_table(torch.arange(T, device=\"cuda\")) #T, C\n",
    "        x = token+pos #B, T, C + T, C ( broadcasting happens) c = n_embed\n",
    "        logits = self.lm_head(x)\n",
    "        \n",
    "        if targets is None:\n",
    "            loss = None\n",
    "        else:\n",
    "            B, T, C = logits.shape\n",
    "            logits = logits.view(B*T, C) #as most loss function in torch dimension (N, C) input -> (n, c) target-> (n,) \n",
    "            targets = targets.view(B*T) #(N, )\n",
    "            loss = F.cross_entropy(logits, targets)\n",
    "\n",
    "        return logits, loss \n",
    "    def generate(self, idx, max_new_tokens):\n",
    "\n",
    "        for _ in range(max_new_tokens):\n",
    "            # crop idx to the last block_size tokens\n",
    "            idx_cond = idx[:, -block_size:]\n",
    "            # get the predictions\n",
    "            logits, loss = self(idx_cond)\n",
    "            # focus only on the last time step\n",
    "            logits = logits[:, -1, :] # becomes (B, C)\n",
    "            # apply softmax to get probabilities\n",
    "            probs = F.softmax(logits, dim=-1) # (B, C)\n",
    "            # sample from the distribution\n",
    "            idx_next = torch.multinomial(probs, num_samples=1) # (B, 1)\n",
    "            # append sampled index to the running sequence\n",
    "            idx = torch.cat((idx, idx_next), dim=1) # (B, T+1)\n",
    "        return idx\n",
    "    \n",
    "\n",
    "m = BigramLanguageModel(vocab_size=65)\n",
    "m = m.to(device=\"cuda\")\n",
    "logits, loss = m(xb.to(device=\"cuda\"), yb.to(device=\"cuda\"))\n",
    "print(logits.shape)\n",
    "print(loss) \n",
    "\n",
    "\n",
    "idx = torch.zeros((1,1), dtype= torch.long, device=\"cuda\")\n",
    "#starting from the 0th character from the vocab \n",
    "print(decode(m.generate(idx, 100)[0].tolist()))\n"
   ]
  },
  {
   "cell_type": "code",
   "execution_count": null,
   "id": "59a37709",
   "metadata": {},
   "outputs": [],
   "source": [
    "batch_size = 32\n",
    "optimizer = torch.optim.AdamW(m.parameters(), lr=1e-3)\n",
    "for steps in range(1000):\n",
    "    xb,yb = get_batch('train')\n",
    "    # xb -> (bs, T) yb -> (bs, T)\n",
    "\n",
    "    #evaluate the loss \n",
    "    logits, loss  = m(xb, yb) # internally calls forward\n",
    "    optimizer.zero_grad(set_to_none = True)\n",
    "    loss.backward()\n",
    "    optimizer.step()\n",
    "\n",
    "print(loss.item())"
   ]
  },
  {
   "cell_type": "code",
   "execution_count": null,
   "id": "2007c5d9",
   "metadata": {},
   "outputs": [],
   "source": [
    "B,T,C = 4, 8, 2\n",
    "X = torch.randn(B,T, C)\n",
    "X.shape"
   ]
  },
  {
   "cell_type": "markdown",
   "id": "fb787fa8",
   "metadata": {},
   "source": []
  },
  {
   "cell_type": "code",
   "execution_count": null,
   "id": "a1e27d60",
   "metadata": {},
   "outputs": [],
   "source": [
    "tril = torch.tril(torch.ones(T, T)) #\n",
    "wei = torch.zeros((T, T))\n",
    "wei = wei.masked_fill(tril==0, float('-inf'))  #mask out the future tokens\n",
    "wei = F.softmax(wei, dim=-1) #normalize\n",
    "xbow = wei @ X\n",
    "print(xbow.shape)"
   ]
  },
  {
   "cell_type": "code",
   "execution_count": null,
   "id": "565cc620",
   "metadata": {},
   "outputs": [],
   "source": [
    "# version 4: self-attention!\n",
    "torch.manual_seed(1337)\n",
    "B,T,C = 4,8,32 # batch, time, channels\n",
    "x = torch.randn(B,T,C)\n",
    "\n",
    "# let's see a single Head perform self-attention\n",
    "head_size = 16\n",
    "\n",
    "\n",
    "key = nn.Linear(C, head_size, bias=False)\n",
    "query = nn.Linear(C, head_size, bias=False)\n",
    "value = nn.Linear(C, head_size, bias=False) \n",
    "\n",
    "k = key(x) #B, T, 16\n",
    "q = query(x) #B, T, 16\n",
    "wei = q @ k.permute(0, 2, 1) \n",
    "\n",
    "\n",
    "tril = torch.tril(torch.ones(T, T))\n",
    "wei = wei.masked_fill(tril==0, float('-inf'))\n",
    "wei = F.softmax(wei, dim=-1)\n",
    "\n",
    "v = value(x)\n",
    "out = wei @ v\n",
    "\n",
    "out.shape"
   ]
  }
 ],
 "metadata": {
  "kernelspec": {
   "display_name": "ai",
   "language": "python",
   "name": "python3"
  },
  "language_info": {
   "codemirror_mode": {
    "name": "ipython",
    "version": 3
   },
   "file_extension": ".py",
   "mimetype": "text/x-python",
   "name": "python",
   "nbconvert_exporter": "python",
   "pygments_lexer": "ipython3",
   "version": "3.11.11"
  }
 },
 "nbformat": 4,
 "nbformat_minor": 5
}
